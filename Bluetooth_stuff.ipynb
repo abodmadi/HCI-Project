{
 "cells": [
  {
   "cell_type": "code",
   "execution_count": 6,
   "metadata": {},
   "outputs": [],
   "source": [
    "import bluetooth\n",
    "import PyOBEX\n"
   ]
  },
  {
   "cell_type": "code",
   "execution_count": 9,
   "metadata": {},
   "outputs": [
    {
     "ename": "KeyError",
     "evalue": "3",
     "output_type": "error",
     "traceback": [
      "\u001b[1;31m---------------------------------------------------------------------------\u001b[0m",
      "\u001b[1;31mKeyError\u001b[0m                                  Traceback (most recent call last)",
      "Cell \u001b[1;32mIn[9], line 8\u001b[0m\n\u001b[0;32m      6\u001b[0m service \u001b[39m=\u001b[39m \u001b[39m\"\u001b[39m\u001b[39mOBEX Object Push\u001b[39m\u001b[39m\"\u001b[39m\n\u001b[0;32m      7\u001b[0m port \u001b[39m=\u001b[39m \u001b[39m9\u001b[39m\n\u001b[1;32m----> 8\u001b[0m sock \u001b[39m=\u001b[39m bluetooth\u001b[39m.\u001b[39;49mBluetoothSocket(bluetooth\u001b[39m.\u001b[39;49mRFCOMM)\n\u001b[0;32m      9\u001b[0m sock\u001b[39m.\u001b[39mconnect((addr, port))\n\u001b[0;32m     11\u001b[0m \u001b[39m# Create a PyOBEX client for the Bluetooth connection\u001b[39;00m\n",
      "File \u001b[1;32mc:\\Users\\NoorLaptop\\anaconda3\\envs\\ForGPU\\lib\\site-packages\\bluetooth\\native_socket.py:16\u001b[0m, in \u001b[0;36mBluetoothSocket.__init__\u001b[1;34m(self, proto)\u001b[0m\n\u001b[0;32m     15\u001b[0m \u001b[39mdef\u001b[39;00m \u001b[39m__init__\u001b[39m (\u001b[39mself\u001b[39m, proto\u001b[39m=\u001b[39mProtocols\u001b[39m.\u001b[39mRFCOMM):\n\u001b[1;32m---> 16\u001b[0m     _proto \u001b[39m=\u001b[39m protocols[proto]\n\u001b[0;32m     18\u001b[0m     \u001b[39msuper\u001b[39m()\u001b[39m.\u001b[39m\u001b[39m__init__\u001b[39m (socket\u001b[39m.\u001b[39mAF_BLUETOOTH, socket\u001b[39m.\u001b[39mSOCK_STREAM, _proto)\n",
      "\u001b[1;31mKeyError\u001b[0m: 3"
     ]
    }
   ],
   "source": [
    "import PyOBEX\n",
    "import bluetooth\n",
    "\n",
    "# Set up the Bluetooth connection\n",
    "addr = \"XX:XX:XX:XX:XX:XX\" # replace with the MAC address of the target Android device\n",
    "service = \"OBEX Object Push\"\n",
    "port = 9\n",
    "sock = bluetooth.BluetoothSocket(bluetooth.RFCOMM)\n",
    "sock.connect((addr, port))\n",
    "\n",
    "# Create a PyOBEX client for the Bluetooth connection\n",
    "client = PyOBEX.client(sock)"
   ]
  },
  {
   "cell_type": "code",
   "execution_count": 16,
   "metadata": {},
   "outputs": [
    {
     "name": "stdout",
     "output_type": "stream",
     "text": [
      "searching for nearby devices...\n",
      "HUAWEI Y7a\n",
      "found the target device!\n",
      "Target Address: 18:9E:2C:1E:F3:7A\n",
      "searching for the object push service...\n"
     ]
    },
    {
     "ename": "NameError",
     "evalue": "name 'lightblue' is not defined",
     "output_type": "error",
     "traceback": [
      "\u001b[1;31m---------------------------------------------------------------------------\u001b[0m",
      "\u001b[1;31mNameError\u001b[0m                                 Traceback (most recent call last)",
      "Cell \u001b[1;32mIn[16], line 14\u001b[0m\n\u001b[0;32m     12\u001b[0m         \u001b[39mbreak\u001b[39;00m\n\u001b[0;32m     13\u001b[0m \u001b[39mprint\u001b[39m(\u001b[39m\"\u001b[39m\u001b[39msearching for the object push service...\u001b[39m\u001b[39m\"\u001b[39m)\n\u001b[1;32m---> 14\u001b[0m services \u001b[39m=\u001b[39m lightblue\u001b[39m.\u001b[39mfindservices(target_address)\n\u001b[0;32m     15\u001b[0m \u001b[39m'''\u001b[39;00m\n\u001b[0;32m     16\u001b[0m \u001b[39mfor service in services:\u001b[39;00m\n\u001b[0;32m     17\u001b[0m \u001b[39m    if service[2] == \"OBEX Object Push\":\u001b[39;00m\n\u001b[1;32m   (...)\u001b[0m\n\u001b[0;32m     20\u001b[0m \u001b[39m    break\u001b[39;00m\n\u001b[0;32m     21\u001b[0m \u001b[39m'''\u001b[39;00m\n",
      "\u001b[1;31mNameError\u001b[0m: name 'lightblue' is not defined"
     ]
    }
   ],
   "source": [
    "obex_port = None\n",
    "target_address = None\n",
    "target_name = \"HUAWEI Y7a\"\n",
    "print (\"searching for nearby devices...\")\n",
    "nearby_devices = bluetooth.discover_devices()\n",
    "for bdaddr in nearby_devices:\n",
    "    print(bluetooth.lookup_name(bdaddr))\n",
    "    if target_name == bluetooth.lookup_name(bdaddr):\n",
    "        print (\"found the target device!\")\n",
    "        target_address = bdaddr\n",
    "        print(\"Target Address: \" + target_address)\n",
    "        break\n",
    "print(\"searching for the object push service...\")\n",
    "services = lightblue.findservices(target_address)\n",
    "'''\n",
    "for service in services:\n",
    "    if service[2] == \"OBEX Object Push\":\n",
    "        obex_port = service[1]\n",
    "        print (\"OK, service '\", service[2], \"' is in port\", service[1], \"!\")\n",
    "    break\n",
    "'''"
   ]
  },
  {
   "cell_type": "code",
   "execution_count": 33,
   "metadata": {},
   "outputs": [
    {
     "ename": "OSError",
     "evalue": "An invalid argument was supplied.\r\n",
     "output_type": "error",
     "traceback": [
      "\u001b[1;31m---------------------------------------------------------------------------\u001b[0m",
      "\u001b[1;31mOSError\u001b[0m                                   Traceback (most recent call last)",
      "Cell \u001b[1;32mIn[33], line 7\u001b[0m\n\u001b[0;32m      5\u001b[0m address \u001b[39m=\u001b[39m \u001b[39m\"\u001b[39m\u001b[39m18:9E:2C:1E:F3:7A\u001b[39m\u001b[39m\"\u001b[39m \u001b[39m# Replace with the address of your Android device\u001b[39;00m\n\u001b[0;32m      6\u001b[0m uuid \u001b[39m=\u001b[39m \u001b[39m\"\u001b[39m\u001b[39m00001106-0000-1000-8000-00805F9B34FB\u001b[39m\u001b[39m\"\u001b[39m \u001b[39m# This is the UUID for OBEX FTP\u001b[39;00m\n\u001b[1;32m----> 7\u001b[0m service_matches \u001b[39m=\u001b[39m find_service(uuid\u001b[39m=\u001b[39;49muuid, address\u001b[39m=\u001b[39;49maddress)\n\u001b[0;32m      8\u001b[0m \u001b[39mif\u001b[39;00m \u001b[39mlen\u001b[39m(service_matches) \u001b[39m==\u001b[39m \u001b[39m0\u001b[39m:\n\u001b[0;32m      9\u001b[0m     \u001b[39mprint\u001b[39m(\u001b[39m\"\u001b[39m\u001b[39mCould not find the OBEX FTP service on the Android device.\u001b[39m\u001b[39m\"\u001b[39m)\n",
      "File \u001b[1;32mc:\\Users\\NoorLaptop\\anaconda3\\envs\\ForGPU\\lib\\site-packages\\bluetooth\\windows\\__init__.py:147\u001b[0m, in \u001b[0;36mfind_service\u001b[1;34m(name, uuid, address)\u001b[0m\n\u001b[0;32m    143\u001b[0m \u001b[39mif\u001b[39;00m \u001b[39mnot\u001b[39;00m is_valid_uuid (uuidstr): \u001b[39mraise\u001b[39;00m \u001b[39mValueError\u001b[39;00m (\u001b[39m\"\u001b[39m\u001b[39minvalid UUID\u001b[39m\u001b[39m\"\u001b[39m)\n\u001b[0;32m    145\u001b[0m uuidstr \u001b[39m=\u001b[39m to_full_uuid (uuidstr)\n\u001b[1;32m--> 147\u001b[0m dresults \u001b[39m=\u001b[39m bt\u001b[39m.\u001b[39;49mfind_service (addr, uuidstr)\n\u001b[0;32m    149\u001b[0m \u001b[39mfor\u001b[39;00m \u001b[39mdict\u001b[39m \u001b[39min\u001b[39;00m dresults:\n\u001b[0;32m    150\u001b[0m     raw \u001b[39m=\u001b[39m \u001b[39mdict\u001b[39m[\u001b[39m\"\u001b[39m\u001b[39mrawrecord\u001b[39m\u001b[39m\"\u001b[39m]\n",
      "\u001b[1;31mOSError\u001b[0m: An invalid argument was supplied.\r\n"
     ]
    }
   ],
   "source": [
    "from bluetooth import *\n",
    "from PyOBEX.client import Client\n",
    "\n",
    "# Set the address of the Android device you want to connect to\n",
    "address = \"18:9E:2C:1E:F3:7A\" # Replace with the address of your Android device\n",
    "uuid = \"00001106-0000-1000-8000-00805F9B34FB\" # This is the UUID for OBEX FTP\n",
    "service_matches = find_service(uuid=uuid, address=address)\n",
    "if len(service_matches) == 0:\n",
    "    print(\"Could not find the OBEX FTP service on the Android device.\")\n",
    "    exit()\n",
    "else:\n",
    "    print(\"Found the OBEX FTP service on the Android device.\")\n"
   ]
  },
  {
   "cell_type": "code",
   "execution_count": 41,
   "metadata": {},
   "outputs": [
    {
     "name": "stdout",
     "output_type": "stream",
     "text": [
      "Error browsing device.\n"
     ]
    },
    {
     "ename": "SystemExit",
     "evalue": "1",
     "output_type": "error",
     "traceback": [
      "An exception has occurred, use %tb to see the full traceback.\n",
      "\u001b[1;31mSystemExit\u001b[0m\u001b[1;31m:\u001b[0m 1\n"
     ]
    },
    {
     "name": "stderr",
     "output_type": "stream",
     "text": [
      "c:\\Users\\NoorLaptop\\anaconda3\\envs\\ForGPU\\lib\\site-packages\\IPython\\core\\interactiveshell.py:3468: UserWarning: To exit: use 'exit', 'quit', or Ctrl-D.\n",
      "  warn(\"To exit: use 'exit', 'quit', or Ctrl-D.\", stacklevel=1)\n"
     ]
    }
   ],
   "source": [
    "import os\n",
    "from bluetooth import *\n",
    "import socket\n",
    "# set up the client\n",
    "client_socket= socket.socket(socket.AF_BLUETOOTH, socket.SOCK_STREAM, \n",
    "socket.BTPROTO_RFCOMM)\n",
    "client_socket.connect((\"18:9E:2C:1E:F3:7A\", 3))\n",
    "\n",
    "# send the request to browse the root folder\n",
    "client_socket.send(\"OBEX FTP\".encode())\n",
    "response = client_socket.recv(1024)\n",
    "if response[0:3] != \"200\":\n",
    "    print (\"Error browsing device.\")\n",
    "    client_socket.close()\n",
    "    sys.exit(1)\n",
    "# send the request to change the current folder\n",
    "client_socket.send(\"SETPATH /sdcard/Bluetooth\")\n",
    "response = client_socket.recv(1024)\n",
    "if response[0:3] != \"200\":\n",
    "    print (\"Error changing folder.\")\n",
    "    client_socket.close()\n",
    "    sys.exit(1)"
   ]
  },
  {
   "cell_type": "code",
   "execution_count": 52,
   "metadata": {},
   "outputs": [
    {
     "ename": "OSError",
     "evalue": "An invalid argument was supplied.\r\n",
     "output_type": "error",
     "traceback": [
      "\u001b[1;31m---------------------------------------------------------------------------\u001b[0m",
      "\u001b[1;31mOSError\u001b[0m                                   Traceback (most recent call last)",
      "Cell \u001b[1;32mIn[52], line 11\u001b[0m\n\u001b[0;32m      8\u001b[0m add \u001b[39m=\u001b[39m \u001b[39m'\u001b[39m\u001b[39m18:9E:2C:1E:F3:7A\u001b[39m\u001b[39m'\u001b[39m\n\u001b[0;32m     10\u001b[0m \u001b[39m# Find the service corresponding to the OBEX Object Push profile\u001b[39;00m\n\u001b[1;32m---> 11\u001b[0m services \u001b[39m=\u001b[39m find_service(address\u001b[39m=\u001b[39;49madd, uuid\u001b[39m=\u001b[39;49m\u001b[39m'\u001b[39;49m\u001b[39m00001106-0000-1000-8000-00805F9B34FB\u001b[39;49m\u001b[39m'\u001b[39;49m)\n",
      "File \u001b[1;32mc:\\Users\\NoorLaptop\\anaconda3\\envs\\ForGPU\\lib\\site-packages\\bluetooth\\windows\\__init__.py:147\u001b[0m, in \u001b[0;36mfind_service\u001b[1;34m(name, uuid, address)\u001b[0m\n\u001b[0;32m    143\u001b[0m \u001b[39mif\u001b[39;00m \u001b[39mnot\u001b[39;00m is_valid_uuid (uuidstr): \u001b[39mraise\u001b[39;00m \u001b[39mValueError\u001b[39;00m (\u001b[39m\"\u001b[39m\u001b[39minvalid UUID\u001b[39m\u001b[39m\"\u001b[39m)\n\u001b[0;32m    145\u001b[0m uuidstr \u001b[39m=\u001b[39m to_full_uuid (uuidstr)\n\u001b[1;32m--> 147\u001b[0m dresults \u001b[39m=\u001b[39m bt\u001b[39m.\u001b[39;49mfind_service (addr, uuidstr)\n\u001b[0;32m    149\u001b[0m \u001b[39mfor\u001b[39;00m \u001b[39mdict\u001b[39m \u001b[39min\u001b[39;00m dresults:\n\u001b[0;32m    150\u001b[0m     raw \u001b[39m=\u001b[39m \u001b[39mdict\u001b[39m[\u001b[39m\"\u001b[39m\u001b[39mrawrecord\u001b[39m\u001b[39m\"\u001b[39m]\n",
      "\u001b[1;31mOSError\u001b[0m: An invalid argument was supplied.\r\n"
     ]
    }
   ],
   "source": [
    "from bluetooth import *\n",
    "from PyOBEX.client import Client\n",
    "from PyOBEX.client import BrowserClient\n",
    "import uuid\n",
    "import time\n",
    "\n",
    "# Bluetooth device address of the Android device\n",
    "add = '18:9E:2C:1E:F3:7A'\n",
    "\n",
    "# Find the service corresponding to the OBEX Object Push profile\n",
    "services = find_service(address=add, uuid='00001106-0000-1000-8000-00805F9B34FB')"
   ]
  },
  {
   "cell_type": "code",
   "execution_count": 7,
   "metadata": {},
   "outputs": [
    {
     "ename": "TimeoutError",
     "evalue": "[WinError 10060] A connection attempt failed because the connected party did not properly respond after a period of time, or established connection failed because connected host has failed to respond",
     "output_type": "error",
     "traceback": [
      "\u001b[1;31m---------------------------------------------------------------------------\u001b[0m",
      "\u001b[1;31mTimeoutError\u001b[0m                              Traceback (most recent call last)",
      "Cell \u001b[1;32mIn[7], line 4\u001b[0m\n\u001b[0;32m      1\u001b[0m \u001b[39mimport\u001b[39;00m \u001b[39msocket\u001b[39;00m\n\u001b[0;32m      2\u001b[0m client_socket\u001b[39m=\u001b[39m socket\u001b[39m.\u001b[39msocket(socket\u001b[39m.\u001b[39mAF_BLUETOOTH, socket\u001b[39m.\u001b[39mSOCK_STREAM, \n\u001b[0;32m      3\u001b[0m socket\u001b[39m.\u001b[39mBTPROTO_RFCOMM)\n\u001b[1;32m----> 4\u001b[0m client_socket\u001b[39m.\u001b[39;49mconnect((\u001b[39m\"\u001b[39;49m\u001b[39m18:9E:2C:1E:F3:7A\u001b[39;49m\u001b[39m\"\u001b[39;49m, \u001b[39m3\u001b[39;49m))\n\u001b[0;32m      5\u001b[0m data \u001b[39m=\u001b[39m \u001b[39m'\u001b[39m\u001b[39mHello, Android!\u001b[39m\u001b[39m'\u001b[39m\n\u001b[0;32m      6\u001b[0m \u001b[39mwith\u001b[39;00m \u001b[39mopen\u001b[39m(\u001b[39m\"\u001b[39m\u001b[39mID_passer.txt\u001b[39m\u001b[39m\"\u001b[39m, \u001b[39m\"\u001b[39m\u001b[39mrb\u001b[39m\u001b[39m\"\u001b[39m) \u001b[39mas\u001b[39;00m f:\n",
      "\u001b[1;31mTimeoutError\u001b[0m: [WinError 10060] A connection attempt failed because the connected party did not properly respond after a period of time, or established connection failed because connected host has failed to respond"
     ]
    }
   ],
   "source": [
    "import socket\n",
    "client_socket= socket.socket(socket.AF_BLUETOOTH, socket.SOCK_STREAM, \n",
    "socket.BTPROTO_RFCOMM)\n",
    "client_socket.connect((\"18:9E:2C:1E:F3:7A\", 3))\n",
    "data = 'Hello, Android!'\n",
    "with open(\"ID_passer.txt\", \"rb\") as f:\n",
    "    file_data = f.read()\n",
    "client_socket.sendall(file_data)"
   ]
  },
  {
   "cell_type": "code",
   "execution_count": 8,
   "metadata": {},
   "outputs": [
    {
     "ename": "JavaException",
     "evalue": "JVM exception occurred: android/os/Environment java.lang.NoClassDefFoundError",
     "output_type": "error",
     "traceback": [
      "\u001b[1;31m---------------------------------------------------------------------------\u001b[0m",
      "\u001b[1;31mJavaException\u001b[0m                             Traceback (most recent call last)",
      "Cell \u001b[1;32mIn[8], line 3\u001b[0m\n\u001b[0;32m      1\u001b[0m \u001b[39mfrom\u001b[39;00m \u001b[39mjnius\u001b[39;00m \u001b[39mimport\u001b[39;00m autoclass , cast\n\u001b[1;32m----> 3\u001b[0m Environment \u001b[39m=\u001b[39m autoclass(\u001b[39m'\u001b[39;49m\u001b[39mandroid.os.Environment\u001b[39;49m\u001b[39m'\u001b[39;49m)\n",
      "File \u001b[1;32mc:\\Users\\NoorLaptop\\anaconda3\\envs\\ForGPU\\lib\\site-packages\\jnius\\reflect.py:211\u001b[0m, in \u001b[0;36mautoclass\u001b[1;34m(clsname, include_protected, include_private)\u001b[0m\n\u001b[0;32m    208\u001b[0m cls_start_packagename \u001b[39m=\u001b[39m \u001b[39m'\u001b[39m\u001b[39m.\u001b[39m\u001b[39m'\u001b[39m\u001b[39m.\u001b[39mjoin(clsname\u001b[39m.\u001b[39msplit(\u001b[39m'\u001b[39m\u001b[39m.\u001b[39m\u001b[39m'\u001b[39m)[:\u001b[39m-\u001b[39m\u001b[39m1\u001b[39m])\n\u001b[0;32m    210\u001b[0m \u001b[39m# c = Class.forName(clsname)\u001b[39;00m\n\u001b[1;32m--> 211\u001b[0m c \u001b[39m=\u001b[39m find_javaclass(clsname)\n\u001b[0;32m    212\u001b[0m \u001b[39mif\u001b[39;00m c \u001b[39mis\u001b[39;00m \u001b[39mNone\u001b[39;00m:\n\u001b[0;32m    213\u001b[0m     \u001b[39mraise\u001b[39;00m \u001b[39mException\u001b[39;00m(\u001b[39m'\u001b[39m\u001b[39mJava class \u001b[39m\u001b[39m{0}\u001b[39;00m\u001b[39m not found\u001b[39m\u001b[39m'\u001b[39m\u001b[39m.\u001b[39mformat(c))\n",
      "File \u001b[1;32mjnius\\jnius_export_func.pxi:26\u001b[0m, in \u001b[0;36mjnius.find_javaclass\u001b[1;34m()\u001b[0m\n",
      "File \u001b[1;32mjnius\\jnius_utils.pxi:91\u001b[0m, in \u001b[0;36mjnius.check_exception\u001b[1;34m()\u001b[0m\n",
      "\u001b[1;31mJavaException\u001b[0m: JVM exception occurred: android/os/Environment java.lang.NoClassDefFoundError"
     ]
    }
   ],
   "source": [
    "from jnius import autoclass , cast\n",
    "\n",
    "Environment = autoclass('android.os.Environment')"
   ]
  },
  {
   "cell_type": "code",
   "execution_count": 7,
   "metadata": {},
   "outputs": [
    {
     "ename": "TwilioRestException",
     "evalue": "HTTP 400 error: Unable to create record: The number  is unverified. Trial accounts cannot send messages to unverified numbers; verify  at twilio.com/user/account/phone-numbers/verified, or purchase a Twilio number to send messages to unverified numbers.",
     "output_type": "error",
     "traceback": [
      "\u001b[1;31m---------------------------------------------------------------------------\u001b[0m",
      "\u001b[1;31mTwilioRestException\u001b[0m                       Traceback (most recent call last)",
      "Cell \u001b[1;32mIn[7], line 7\u001b[0m\n\u001b[0;32m      5\u001b[0m my_phone_number \u001b[39m=\u001b[39m \u001b[39m'\u001b[39m\u001b[39m+201097671996\u001b[39m\u001b[39m'\u001b[39m\n\u001b[0;32m      6\u001b[0m client \u001b[39m=\u001b[39m Client(account_sid , auth_token)\n\u001b[1;32m----> 7\u001b[0m message \u001b[39m=\u001b[39m client\u001b[39m.\u001b[39;49mmessages\u001b[39m.\u001b[39;49mcreate(body \u001b[39m=\u001b[39;49m \u001b[39m\"\u001b[39;49m\u001b[39mThis is a message hello there\u001b[39;49m\u001b[39m\"\u001b[39;49m , from_ \u001b[39m=\u001b[39;49m twilio_number, to\u001b[39m=\u001b[39;49mmy_phone_number)\n",
      "File \u001b[1;32mc:\\Users\\NoorLaptop\\anaconda3\\envs\\ForGPU\\lib\\site-packages\\twilio\\rest\\api\\v2010\\account\\message\\__init__.py:103\u001b[0m, in \u001b[0;36mMessageList.create\u001b[1;34m(self, to, status_callback, application_sid, max_price, provide_feedback, attempt, validity_period, force_delivery, content_retention, address_retention, smart_encoded, persistent_action, shorten_urls, schedule_type, send_at, send_as_mms, content_sid, content_variables, from_, messaging_service_sid, body, media_url)\u001b[0m\n\u001b[0;32m     49\u001b[0m \u001b[39m\"\"\"\u001b[39;00m\n\u001b[0;32m     50\u001b[0m \u001b[39mCreate the MessageInstance\u001b[39;00m\n\u001b[0;32m     51\u001b[0m \n\u001b[1;32m   (...)\u001b[0m\n\u001b[0;32m     76\u001b[0m \u001b[39m:rtype: twilio.rest.api.v2010.account.message.MessageInstance\u001b[39;00m\n\u001b[0;32m     77\u001b[0m \u001b[39m\"\"\"\u001b[39;00m\n\u001b[0;32m     78\u001b[0m data \u001b[39m=\u001b[39m values\u001b[39m.\u001b[39mof({\n\u001b[0;32m     79\u001b[0m     \u001b[39m'\u001b[39m\u001b[39mTo\u001b[39m\u001b[39m'\u001b[39m: to,\n\u001b[0;32m     80\u001b[0m     \u001b[39m'\u001b[39m\u001b[39mFrom\u001b[39m\u001b[39m'\u001b[39m: from_,\n\u001b[1;32m   (...)\u001b[0m\n\u001b[0;32m    100\u001b[0m     \u001b[39m'\u001b[39m\u001b[39mContentVariables\u001b[39m\u001b[39m'\u001b[39m: content_variables,\n\u001b[0;32m    101\u001b[0m })\n\u001b[1;32m--> 103\u001b[0m payload \u001b[39m=\u001b[39m \u001b[39mself\u001b[39;49m\u001b[39m.\u001b[39;49m_version\u001b[39m.\u001b[39;49mcreate(method\u001b[39m=\u001b[39;49m\u001b[39m'\u001b[39;49m\u001b[39mPOST\u001b[39;49m\u001b[39m'\u001b[39;49m, uri\u001b[39m=\u001b[39;49m\u001b[39mself\u001b[39;49m\u001b[39m.\u001b[39;49m_uri, data\u001b[39m=\u001b[39;49mdata, )\n\u001b[0;32m    105\u001b[0m \u001b[39mreturn\u001b[39;00m MessageInstance(\u001b[39mself\u001b[39m\u001b[39m.\u001b[39m_version, payload, account_sid\u001b[39m=\u001b[39m\u001b[39mself\u001b[39m\u001b[39m.\u001b[39m_solution[\u001b[39m'\u001b[39m\u001b[39maccount_sid\u001b[39m\u001b[39m'\u001b[39m], )\n",
      "File \u001b[1;32mc:\\Users\\NoorLaptop\\anaconda3\\envs\\ForGPU\\lib\\site-packages\\twilio\\base\\version.py:205\u001b[0m, in \u001b[0;36mVersion.create\u001b[1;34m(self, method, uri, params, data, headers, auth, timeout, allow_redirects)\u001b[0m\n\u001b[0;32m    193\u001b[0m response \u001b[39m=\u001b[39m \u001b[39mself\u001b[39m\u001b[39m.\u001b[39mrequest(\n\u001b[0;32m    194\u001b[0m     method,\n\u001b[0;32m    195\u001b[0m     uri,\n\u001b[1;32m   (...)\u001b[0m\n\u001b[0;32m    201\u001b[0m     allow_redirects\u001b[39m=\u001b[39mallow_redirects,\n\u001b[0;32m    202\u001b[0m )\n\u001b[0;32m    204\u001b[0m \u001b[39mif\u001b[39;00m response\u001b[39m.\u001b[39mstatus_code \u001b[39m<\u001b[39m \u001b[39m200\u001b[39m \u001b[39mor\u001b[39;00m response\u001b[39m.\u001b[39mstatus_code \u001b[39m>\u001b[39m\u001b[39m=\u001b[39m \u001b[39m300\u001b[39m:\n\u001b[1;32m--> 205\u001b[0m     \u001b[39mraise\u001b[39;00m \u001b[39mself\u001b[39m\u001b[39m.\u001b[39mexception(method, uri, response, \u001b[39m'\u001b[39m\u001b[39mUnable to create record\u001b[39m\u001b[39m'\u001b[39m)\n\u001b[0;32m    207\u001b[0m \u001b[39mreturn\u001b[39;00m json\u001b[39m.\u001b[39mloads(response\u001b[39m.\u001b[39mtext)\n",
      "\u001b[1;31mTwilioRestException\u001b[0m: HTTP 400 error: Unable to create record: The number  is unverified. Trial accounts cannot send messages to unverified numbers; verify  at twilio.com/user/account/phone-numbers/verified, or purchase a Twilio number to send messages to unverified numbers."
     ]
    }
   ],
   "source": [
    "from twilio.rest import Client\n",
    "account_sid = 'ACf3af298941b9c8918711b0e060ece907'\n",
    "auth_token = 'e1e30962f7ed51792e227cf8877739bc'\n",
    "twilio_number = '+15076186720'\n",
    "my_phone_number = '+201097671996'\n",
    "client = Client(account_sid , auth_token)\n",
    "message = client.messages.create(body = \"This is a message hello there\" , from_ = twilio_number, to=my_phone_number)\n"
   ]
  }
 ],
 "metadata": {
  "kernelspec": {
   "display_name": "ForGPU",
   "language": "python",
   "name": "python3"
  },
  "language_info": {
   "codemirror_mode": {
    "name": "ipython",
    "version": 3
   },
   "file_extension": ".py",
   "mimetype": "text/x-python",
   "name": "python",
   "nbconvert_exporter": "python",
   "pygments_lexer": "ipython3",
   "version": "3.9.16"
  },
  "orig_nbformat": 4
 },
 "nbformat": 4,
 "nbformat_minor": 2
}
